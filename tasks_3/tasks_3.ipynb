{
  "nbformat": 4,
  "nbformat_minor": 0,
  "metadata": {
    "colab": {
      "provenance": [],
      "gpuType": "T4"
    },
    "kernelspec": {
      "name": "python3",
      "display_name": "Python 3"
    },
    "language_info": {
      "name": "python"
    }
  },
  "cells": [
    {
      "cell_type": "markdown",
      "source": [
        "## Задача 1. Собачий возраст."
      ],
      "metadata": {
        "id": "3ZTqsA3QAdNT"
      }
    },
    {
      "cell_type": "markdown",
      "source": [
        "**Условие.** Считается, что один год, прожитый собакой, эквивалентен семи человеческим годам. При этом зачастую не учитывается, что собаки становятся\n",
        "абсолютно взрослыми уже к двум годам. Таким образом, многие предпочитают каждый из первых двух лет жизни собаки приравнивать к 10,5 года человеческой жизни, а все последующие – к четырем.\n",
        "Напишите программу, которая будет переводить человеческий возраст в  собачий с  учетом указанной выше логики. Убедитесь, что программа\n",
        "корректно работает при пересчете возраста собаки меньше и больше двух лет. Также программа должна выводить сообщение об ошибке, если пользователь ввел отрицательное число, либо не числовое значение.\n"
      ],
      "metadata": {
        "id": "h0qekVbbAdNU"
      }
    },
    {
      "cell_type": "code",
      "source": [
        "#@title\n",
        "#Собачий возраст\n",
        "\n",
        "human_age_input=input(\"Введите возраст человека: \")\n",
        "\n",
        "#смотрим ввел ли пользователь число\n",
        "if human_age_input.isdecimal():\n",
        "  human_age=int(human_age_input)\n",
        "#Смотрим в каком диапазоне находится значение\n",
        "  if human_age >0:\n",
        "      human_age=float(human_age_input)\n",
        "      if human_age <=21:\n",
        "        dog_age = human_age/10.5\n",
        "      elif human_age >= 21:\n",
        "        dog_age_twoyears = human_age/10.5\n",
        "        if dog_age_twoyears >= 3:\n",
        "          dog_age_twoyears = dog_age_twoyears - 2\n",
        "          dog_age = dog_age_twoyears*10.5/4 + 2\n",
        "      print(\"Возраст человека %s соответсвует возрасту \\\n",
        "собаки %.0f \" % (human_age_input,dog_age))\n",
        "else:\n",
        "  print(\"Ошибка: неверное значение\")"
      ],
      "metadata": {
        "id": "4U_MTic1AdNU",
        "colab": {
          "base_uri": "https://localhost:8080/"
        },
        "outputId": "70d92926-b2ea-4316-be58-3451f5cc951f"
      },
      "execution_count": null,
      "outputs": [
        {
          "output_type": "stream",
          "name": "stdout",
          "text": [
            "Введите возраст человека: 2\n",
            "Возраст человека 2 соответсвует возрасту собаки 0 года\n"
          ]
        }
      ]
    },
    {
      "cell_type": "markdown",
      "source": [
        "## Задача 2. Какого цвета клетка?"
      ],
      "metadata": {
        "id": "WOelnSN-AdVJ"
      }
    },
    {
      "cell_type": "markdown",
      "source": [
        "**Условие.** Клетки на шахматной доске идентифицируются буквой и цифрой. Буква определяет положение клетки по горизонтали, а цифра – по вертикали, как показано на рисунке.\n",
        "\n",
        "![image.png](data:image/png;base64,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)\n",
        "\n",
        "Ваша программа должна запрашивать у пользователя координаты клетки. Используйте условное выражение для определения того, с какой клетки – белой или черной – начинается столбец. Затем при помощи обычной арифметики необходимо определить цвет конкретной клетки. Например, если пользователь ввел a1, программа должна определить, что клетка\n",
        "с этими координатами черная. Если d5 – белая."
      ],
      "metadata": {
        "id": "3eGjbOxrAdVK"
      }
    },
    {
      "cell_type": "code",
      "source": [
        "#@title\n",
        "#black or white\n",
        "\n",
        "place_input=input(\"Введите координаты клетки. Например: d5 \\n Поле ввода: \")\n",
        "place_letter=''\n",
        "place_number=''\n",
        "\n",
        "#Разделяем букву и цифру\n",
        "for char in place_input:\n",
        "  if char.isalpha():\n",
        "    place_letter += char\n",
        "  if char.isdigit():\n",
        "    place_number += char\n",
        "\n",
        "#Просчитываем значение в клетке\n",
        "place_number=int(place_number)\n",
        "if place_letter in (\"a\",\"c\",\"e\",\"g\"):\n",
        "  if place_number % 2 == 0:\n",
        "    print(\"white\")\n",
        "  else:\n",
        "    print(\"black\")\n",
        "if place_letter in (\"b\",\"d\",\"f\",\"h\"):\n",
        "  if place_number % 2 == 0:\n",
        "    print(\"black\")\n",
        "  else:\n",
        "    print(\"white\")\n",
        "else:\n",
        "  print(\"None\")\n"
      ],
      "metadata": {
        "id": "dJYXdZOmAdVK",
        "colab": {
          "base_uri": "https://localhost:8080/"
        },
        "outputId": "5255e35a-5a57-41b5-ca45-4235f353805f"
      },
      "execution_count": null,
      "outputs": [
        {
          "output_type": "stream",
          "name": "stdout",
          "text": [
            "Введите координаты клетки. Например: d5 \n",
            " Поле ввода: h8\n",
            "black\n"
          ]
        }
      ]
    },
    {
      "cell_type": "markdown",
      "source": [
        "## Задача 3. Игра Fizz-Buzz."
      ],
      "metadata": {
        "id": "XOyY1qnfAc8A"
      }
    },
    {
      "cell_type": "markdown",
      "source": [
        "**Условие.** Fizz-Buzz  – это известная игра, помогающая детям освоить в  игровой форме правила деления. Участники садятся в круг, чтобы игра теоретически могла продолжаться бесконечно. Первый игрок говорит «Один» и передает ход тому, кто слева. Каждый следующий игрок должен мысленно прибавить к предыдущему числу единицу и произнести либо его, либо одно из ключевых слов: Fizz, если число без остатка делится на три, или Buzz, если на пять. Если соблюдаются оба этих условия, он произносит Fizz-Buzz. Игрок, не сумевший сказать правильное слово, выбывает из игры. Последний оставшийся игрок признается победителем.\n",
        "Разработайте программу, реализующую алгоритм игры Fizz-Buzz применительно к  первым 100 числам. Каждый следующий ответ должен отображаться на новой строке."
      ],
      "metadata": {
        "id": "KxclOyAZAc8B"
      }
    },
    {
      "cell_type": "code",
      "source": [
        "#@title\n",
        "#fizz-buzz\n",
        "\n",
        "#Начинаем игру\n",
        "print(\"Игра начинается\")\n",
        "game_number = int(input(\"Игрок один введите число: \"))\n",
        "\n",
        "#Просим пользователя ввести нужное число\n",
        "while game_number !=1:\n",
        "  game_number = int(input(\"Число неверное. Нужно начинать с 1.Игрок один введите число: \"))\n",
        "\n",
        "#Пишем цикл игры до 100, задаем верные значения для fizz , buzz и числа,\n",
        "while game_number !=99:\n",
        "  game_number = game_number + 1\n",
        "  answer_int_input = input(\"Введите следующее число: \")\n",
        "  print(game_number)\n",
        "  answer_fizz_input = str(input(\"Fizz ? \\n Если да введите '+' \\n Если нет введите '-' \\\n",
        "\\nОтвет:\"))\n",
        "  answer_buzz_input = str(input(\"Buzz ? \\n Если да введите '+' \\n Если нет введите '-' \\\n",
        "\\nОтвет:\"))\n",
        "  answer_int = int(answer_int_input)\n",
        "  correct_fizz=str(correct_fizz)\n",
        "  correct_buzz=str(correct_buzz)\n",
        "  if game_number % 15 == 0:\n",
        "      correct_fizz = '+'\n",
        "      correct_buzz = '+'\n",
        "  elif game_number % 5 == 0:\n",
        "      correct_fizz = '-'\n",
        "      correct_buzz = '+'\n",
        "  elif game_number % 3 == 0:\n",
        "      correct_fizz = '+'\n",
        "      correct_buzz = '-'\n",
        "  else:\n",
        "      correct_fizz = '-'\n",
        "      correct_buzz = '-'\n",
        "  if answer_int == game_number and answer_fizz_input == correct_fizz and answer_buzz_input == correct_buzz:\n",
        "      print(\"Все верно! Идем дальше...\") #Cмотрим ответ игрока и сравниваем с правильными ответами\n",
        "  else:\n",
        "      game_number=99\n",
        "      print(\"Вы проиграли!\") # проигрыш"
      ],
      "metadata": {
        "id": "Ju8EWcQ7Ac8C",
        "colab": {
          "base_uri": "https://localhost:8080/"
        },
        "outputId": "0783e95f-6dde-48df-be19-c599ab7523c9"
      },
      "execution_count": null,
      "outputs": [
        {
          "output_type": "stream",
          "name": "stdout",
          "text": [
            "Игра начинается\n",
            "Игрок один введите число: 1\n",
            "Введите следующее число: 2\n",
            "2\n",
            "Fizz ? \n",
            " Если да введите '+' \n",
            " Если нет введите '-' \n",
            "Ответ:-\n",
            "Buzz ? \n",
            " Если да введите '+' \n",
            " Если нет введите '-' \n",
            "Ответ:-\n",
            "Все верно! Идем дальше...\n",
            "Введите следующее число: 3\n",
            "3\n",
            "Fizz ? \n",
            " Если да введите '+' \n",
            " Если нет введите '-' \n",
            "Ответ:+\n",
            "Buzz ? \n",
            " Если да введите '+' \n",
            " Если нет введите '-' \n",
            "Ответ:-\n",
            "Все верно! Идем дальше...\n",
            "Введите следующее число: 4\n",
            "4\n",
            "Fizz ? \n",
            " Если да введите '+' \n",
            " Если нет введите '-' \n",
            "Ответ:-\n",
            "Buzz ? \n",
            " Если да введите '+' \n",
            " Если нет введите '-' \n",
            "Ответ:-\n",
            "Все верно! Идем дальше...\n",
            "Введите следующее число: 5\n",
            "5\n",
            "Fizz ? \n",
            " Если да введите '+' \n",
            " Если нет введите '-' \n",
            "Ответ:0\n",
            "Buzz ? \n",
            " Если да введите '+' \n",
            " Если нет введите '-' \n",
            "Ответ:+\n",
            "Вы проиграли!\n"
          ]
        }
      ]
    },
    {
      "cell_type": "markdown",
      "source": [
        "## Задача 4. Избавляемся от дубликатов."
      ],
      "metadata": {
        "id": "wgQ1jjSFAcx4"
      }
    },
    {
      "cell_type": "markdown",
      "source": [
        "**Условие.** В данном упражнении вам предстоит разработать программу, в которой у  пользователя будет запрошен список слов, пока он не оставит строку ввода пустой. После этого на экране должны быть показаны слова, введенные пользователем, но без повторов, – каждое по одному разу. При этом\n",
        "слова должны быть отображены в том же порядке, в  каком их вводили с клавиатуры. Например, если пользователь на запрос программы введет следующий список слов:\n",
        "```\n",
        "first\n",
        "second\n",
        "first\n",
        "third\n",
        "second\n",
        "```\n",
        "программа должна вывести:\n",
        "```\n",
        "first\n",
        "second\n",
        "third\n",
        "```"
      ],
      "metadata": {
        "id": "92iWI-qmAcx4"
      }
    },
    {
      "cell_type": "code",
      "source": [
        "#@title\n",
        "#delete same\n",
        "\n",
        "#пишем нужные переменные\n",
        "words = []\n",
        "word=\"Hello\"\n",
        "k=0\n",
        "\n",
        "#Цикл добавления слов в список\n",
        "while True:\n",
        "  word=str(input(\"Введите слова:\"))\n",
        "  if word == \"\":\n",
        "    break\n",
        "  if word not in words:\n",
        "    words.append(word)\n",
        "print(words)"
      ],
      "metadata": {
        "id": "5AwCxxTHAcx5",
        "colab": {
          "base_uri": "https://localhost:8080/"
        },
        "outputId": "d0ff5b38-2211-4eaa-d6dd-c5ed08ed21b7"
      },
      "execution_count": null,
      "outputs": [
        {
          "output_type": "stream",
          "name": "stdout",
          "text": [
            "Введите слова:first\n",
            "Введите слова:second\n",
            "Введите слова:first\n",
            "Введите слова:third\n",
            "Введите слова:second\n",
            "Введите слова:\n",
            "['first', 'second', 'third']\n"
          ]
        }
      ]
    },
    {
      "cell_type": "markdown",
      "source": [
        "## Задача 5. Ниже и выше среднего."
      ],
      "metadata": {
        "id": "AbSoL3XYQacd"
      }
    },
    {
      "cell_type": "markdown",
      "source": [
        "**Условие.** Напишите программу, которая будет запрашивать у  пользователя числа, пока не будет введена пустая строка. Сначала на экран должно быть выведено среднее значение введенного ряда чисел, после этого друг за другом необходимо вывести список чисел ниже среднего, равных ему (если такие\n",
        "найдутся) и выше среднего. Каждый список должен предваряться соответствующим заголовком.\n"
      ],
      "metadata": {
        "id": "IG1nr4e1Qaco"
      }
    },
    {
      "cell_type": "code",
      "source": [
        "#@title\n",
        "#more or less than average\n",
        "\n",
        "#Вводим нужные переменные\n",
        "number_list=[]\n",
        "less_average_num=[]\n",
        "equal_average_num=[]\n",
        "more_average_num=[]\n",
        "average_number = 0\n",
        "total_num = 0\n",
        "\n",
        "#пишем цикл занесения значений в список\n",
        "while True:\n",
        "  number_input = input(\"Введите значения: \")\n",
        "  if number_input.isdecimal():\n",
        "    number_input = int(number_input)\n",
        "    number_list.append(number_input)\n",
        "  elif number_input == '':\n",
        "    break\n",
        "  else:\n",
        "    number_list.pop()\n",
        "    print(\"Ошибка\")\n",
        "\n",
        "#cчитаем среднее, а также заносим соответсвующие значения в нужные списки\n",
        "if len(number_list) > 0:\n",
        "  average_number = sum(number_list)  / len(number_list)\n",
        "for value in number_list:\n",
        "  if value < average_number:\n",
        "    less_average_num.append(value)\n",
        "  elif value == average_number:\n",
        "    equal_average_num.append(value)\n",
        "  elif value > average_number:\n",
        "    more_average_num.append(value)\n",
        "\n",
        "#Вывод результата\n",
        "print(\"Вы ввели числа: \\n %s\"%number_list)\n",
        "print(\"Среднее число равно: \\n %s\" % average_number)\n",
        "print(\"Числа меньше среднего: \\n %s \\\n",
        "\\n Числа равные среднему: \\n %s \\\n",
        "\\n Числа больше среднего: \\n %s\"\\\n",
        "% (less_average_num,equal_average_num,more_average_num))\n"
      ],
      "metadata": {
        "id": "7vaJPZhTQaco",
        "colab": {
          "base_uri": "https://localhost:8080/"
        },
        "outputId": "90bd7633-098d-4ff7-dae5-48f32deca7a8"
      },
      "execution_count": null,
      "outputs": [
        {
          "output_type": "stream",
          "name": "stdout",
          "text": [
            "Введите значения: 2\n",
            "Введите значения: 3\n",
            "Введите значения: 4\n",
            "Введите значения: \n",
            "Вы ввели числа: \n",
            " [2, 3, 4]\n",
            "Среднее число равно: \n",
            " 3.0\n",
            "Числа меньше среднего: \n",
            " [2] \n",
            " Числа равные среднему: \n",
            " [3] \n",
            " Числа больше среднего: \n",
            " [4]\n"
          ]
        }
      ]
    },
    {
      "cell_type": "markdown",
      "source": [
        "## Задача 6. Решето Эратосфена."
      ],
      "metadata": {
        "id": "cvUlq936Qbub"
      }
    },
    {
      "cell_type": "markdown",
      "source": [
        "**Условие.** Решето Эратосфена – алгоритм, изобретенный более 2000 лет назад и служащий для нахождения всех простых чисел от 2 до некоторого целого числа n. Ваше решение должно начинаться с предложения пользователю ввести число, до которого необходимо вывести простые числа. Описание этого алгоритма приведено ниже.\n",
        "```\n",
        "Выписываем все целые числа от 0 до заданной границы\n",
        "Вычеркиваем 0 и 1 как непростые числа\n",
        "Устанавливаем значение переменной p, равное 2\n",
        "Пока p меньше указанного числа, делать\n",
        " Вычеркиваем все числа, кратные p, но не его само\n",
        " Устанавливаем значение p, равное следующему невычеркнутому числу\n",
        "Выводим все числа, оставшиеся незачеркнутыми\n",
        "```\n",
        "\n",
        "Ценность данного алгоритма заключается в том, что на бумаге очень легко вычеркнуть все числа, кратные определенному. Для компьютера это также не самая сложная задача – с этим может прекрасно справиться инструкция for с третьим параметром, переданным функции range. Мы знаем, что вычеркнутые числа на листочке не являются простыми, но физически они никуда с листа не деваются и должны участвовать в дальнейшем алгоритме. Так что и в компьютерной симуляции не стоит «вычеркивать» элемент путем его удаления из списка – вместо этого лучше\n",
        "будет присвоить ему значение 0. После завершения алгоритма все ненулевые числа в списке и будут простыми.\n",
        "Напишите программу на Python, реализующую указанный выше алгоритм для отображения простых чисел в интервале от двух до значения, введенного пользователем. Если алгоритм будет реализован правильно, ваша программа справится с выводом всех простых чисел от двух до миллиона всего за пару секунд."
      ],
      "metadata": {
        "id": "eONtOCDwQbub"
      }
    },
    {
      "cell_type": "markdown",
      "source": [
        "> **Примечание.** Приведенный в данном упражнении алгоритм поиска простых чисел, названный в честь Эратосфена, был далеко не единственным вкладом греческого математика в науку. Ему также приписывают вычисление длины окружности Земли\n",
        "и градус наклона ее оси. Кроме того, с 235 г. до н. э. он служил хранителем знаменитой Александрийской библиотеки."
      ],
      "metadata": {
        "id": "BUNWREIfWfIW"
      }
    },
    {
      "cell_type": "code",
      "source": [
        "#@title\n",
        "#Решето Эратосфена\n",
        "\n",
        "#нужные списки\n",
        "prime_num_list = []\n",
        "number_list=[]\n",
        "\n",
        "user_value = int(input(\"Введите число, до которого необходимо выписать простые числа: \"))\n",
        "for i in range(user_value+1):\n",
        "    number_list.append(i) #Выписываем все целые числа от 0 до заданной границы\n",
        "for v in number_list:\n",
        "  if v==1:\n",
        "    number_list[v]=0 #Вычеркиваем 0 и 1 как непростые числа\n",
        "\n",
        "for current in range(2,user_value+1):\n",
        "  if number_list[current] !=0: #прогоняем вычисления от 2 до нужного числа\n",
        "    for v in range(current*current,user_value+1,current):\n",
        "      number_list[v]=0 #вычеркиваем значения до знчения пользователя\n",
        "\n",
        "#Убираем 0 из списка\n",
        "for v in number_list:\n",
        "  if v !=0:\n",
        "    prime_num_list.append(v)\n",
        "print(\"Простые числа до %s это:\\n %s\"%(user_value,prime_num_list))"
      ],
      "metadata": {
        "colab": {
          "base_uri": "https://localhost:8080/"
        },
        "id": "ePJoJopop80_",
        "outputId": "2b857fc6-8846-4b7d-c729-e9db485ba4cc"
      },
      "execution_count": null,
      "outputs": [
        {
          "output_type": "stream",
          "name": "stdout",
          "text": [
            "Введите число, до которого необходимо выписать простые числа: 100\n",
            "Простые числа до 100 это:\n",
            " [2, 3, 5, 7, 11, 13, 17, 19, 23, 29, 31, 37, 41, 43, 47, 53, 59, 61, 67, 71, 73, 79, 83, 89, 97]\n"
          ]
        }
      ]
    },
    {
      "cell_type": "markdown",
      "source": [
        "## Задача 7. Эрудит."
      ],
      "metadata": {
        "id": "mIKDYrmOQcKR"
      }
    },
    {
      "cell_type": "markdown",
      "source": [
        "**Условие.** В известной игре Эрудит (Scrabble) каждой букве соответствует определенное количество очков. Общая сумма очков, которую получает игрок,\n",
        "составивший это слово, складывается из очков за каждую букву, входящую\n",
        "в его состав. Чем более употребимой является буква в языке, тем меньше\n",
        "очков начисляется за ее использование. Напишите программу, рассчитывающую и отображающую количество очков за собранное слово. Создайте словарь для хранения соответствий между буквами и очками и используйте его в своем решении.\n",
        "Система очков в игре Эрудит:\n",
        "  * 1  - A, E, I, L, N, O, R, S, T и U\n",
        "  * 2  - D и G\n",
        "  * 3  - B, C, M и P\n",
        "  * 4  - F, H, V, W и Y\n",
        "  * 5  - K\n",
        "  * 8  - J и X\n",
        "  * 10 - Q и Z"
      ],
      "metadata": {
        "id": "kCho9pK5YqNx"
      }
    },
    {
      "cell_type": "code",
      "source": [
        "#@title\n",
        "#Erudit\n",
        "\n",
        "#пишем словарь для хранения\n",
        "score_system = {\n",
        "    \"A\": 1, \"E\": 1, \"I\": 1, \"L\": 1, \"N\": 1,\n",
        "    \"O\": 1, \"R\": 1, \"S\": 1, \"T\": 1, \"U\": 1,\n",
        "    \"D\": 2, \"G\": 2, \"B\": 3, \"C\": 3, \"M\": 3,\n",
        "    \"P\": 3, \"F\": 4, \"H\": 4, \"V\": 4, \"W\": 4,\n",
        "    \"Y\": 4, \"K\": 5, \"J\": 8, \"X\": 8, \"Q\": 10,\n",
        "    \"Z\": 10\n",
        "}\n",
        "\n",
        "#пишем нужные переменные, просим пользователя ввести слово и пишем это слово в верхнем регистре\n",
        "word_parts = []\n",
        "word_input = str(input(\"Введите ваше слово:\"))\n",
        "word_input = word_input.upper()\n",
        "score = 0\n",
        "\n",
        "#Разбиваем слово по частям, подводим счет очков и выводим\n",
        "for i in range(len(word_input)):\n",
        "  word_parts.append(word_input[i])\n",
        "for v in word_parts:\n",
        "  if v in score_system.keys():\n",
        "    score = score + score_system[v]\n",
        "print(\"Слово %s набирает %s очков\"% (word_input,score))"
      ],
      "metadata": {
        "id": "-Fa30-d5Z0Fo",
        "colab": {
          "base_uri": "https://localhost:8080/"
        },
        "outputId": "bc8198af-823e-471a-904c-e72a778ab2b8"
      },
      "execution_count": null,
      "outputs": [
        {
          "output_type": "stream",
          "name": "stdout",
          "text": [
            "Введите ваше слово:zaza\n",
            "Слово ZAZA набирает 22 очков\n"
          ]
        }
      ]
    }
  ]
}