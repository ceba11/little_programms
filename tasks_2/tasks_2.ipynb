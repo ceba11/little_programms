{
  "nbformat": 4,
  "nbformat_minor": 0,
  "metadata": {
    "colab": {
      "provenance": []
    },
    "kernelspec": {
      "name": "python3",
      "display_name": "Python 3"
    },
    "language_info": {
      "name": "python"
    }
  },
  "cells": [
    {
      "cell_type": "markdown",
      "source": [
        "## Задача 1. Приветствие."
      ],
      "metadata": {
        "id": "ZzjUAyrL6jgO"
      }
    },
    {
      "cell_type": "markdown",
      "source": [
        "**Условие.** Напишите программу, запрашивающую у пользователя его имя. В ответ\n",
        "на ввод на экране должно появиться приветствие с обращением по имени,\n",
        "введенному с клавиатуры ранее.\n"
      ],
      "metadata": {
        "id": "M4OAOB6s6mU7"
      }
    },
    {
      "cell_type": "code",
      "source": [
        "#@title\n",
        "#Программа приветствия\n",
        "\n",
        "name = str(input(\"Введите ваше имя: \"))\n",
        "print(\"Привет, %s\" % name)"
      ],
      "metadata": {
        "colab": {
          "base_uri": "https://localhost:8080/"
        },
        "id": "S28FgdHB5iCq",
        "outputId": "96717015-be40-41bd-8bad-7ab27061c61f"
      },
      "execution_count": null,
      "outputs": [
        {
          "output_type": "stream",
          "name": "stdout",
          "text": [
            "Введите ваше имя: Артём\n",
            "Привет, Артём\n"
          ]
        }
      ]
    },
    {
      "cell_type": "markdown",
      "source": [
        "## Задача 2. Сувениры и безделушки."
      ],
      "metadata": {
        "id": "UG8mwj2-eALV"
      }
    },
    {
      "cell_type": "markdown",
      "source": [
        "**Условие.** Интернет-магазин занимается продажей различных сувениров и безделушек. Каждый сувенир весит 75 г, а безделушка – 112 г. Напишите программу, запрашивающую у пользователя количество тех и других покупок,\n",
        "после чего выведите на экран общий вес посылки.\n"
      ],
      "metadata": {
        "id": "ay2EfeBreALW"
      }
    },
    {
      "cell_type": "code",
      "source": [
        "#@title\n",
        "#Программа расчета веса сувениров и безделушку\n",
        "\n",
        "#Задаем вес сувенира и безделушки\n",
        "souvenir_weight = 75\n",
        "trinket_weight = 112\n",
        "\n",
        "#Спрашиваем у пользователя количество:\n",
        "souvenir_number = int(input(\"Введите кол-во сувениров: \"))\n",
        "trinket_number = int(input(\"Введите кол-во безделушек: \"))\n",
        "\n",
        "#Пишем формулу общего веса\n",
        "total_weight = souvenir_number * souvenir_weight + trinket_number * trinket_weight\n",
        "\n",
        "#Обрабатывваем результат\n",
        "print(\"Общий вес посылки: %s г.\" % total_weight)"
      ],
      "metadata": {
        "colab": {
          "base_uri": "https://localhost:8080/"
        },
        "id": "db75xjujQ_Lu",
        "outputId": "0ef22c4e-0b84-4bcb-9dc5-0ac08a7dda70"
      },
      "execution_count": null,
      "outputs": [
        {
          "output_type": "stream",
          "name": "stdout",
          "text": [
            "Введите кол-во сувениров: 4\n",
            "Введите кол-во безделушек: 2\n",
            "Общий вес посылки: 524 г.\n"
          ]
        }
      ]
    },
    {
      "cell_type": "markdown",
      "source": [
        "## Задача 3. Сложные проценты"
      ],
      "metadata": {
        "id": "v2IXqDTVeBfM"
      }
    },
    {
      "cell_type": "markdown",
      "source": [
        "**Условие.** Представьте, что вы открыли в банке сберегательный счет под 4 % годовых. Проценты банк рассчитывает в конце года и добавляет к сумме счета.\n",
        "Напишите программу, которая запрашивает у пользователя сумму первоначального депозита, после чего рассчитывает и выводит на экран сумму\n",
        "на счету в конце первого, второго и третьего годов. Все суммы должны\n",
        "быть округлены до двух знаков после запятой.\n",
        "\n"
      ],
      "metadata": {
        "id": "rGE3sh2ueBfN"
      }
    },
    {
      "cell_type": "code",
      "source": [
        "#@title\n",
        "#Депозит\n",
        "\n",
        "#Задаем ставку депозита\n",
        "deposit_rate = 1.04\n",
        "\n",
        "#Запрашиваем у пользователя сумму\n",
        "contribution = float(input(\"Введите сумму первоначального взноса: \"))\n",
        "\n",
        "#Сколько получим в первый, второй и третий год\n",
        "first_year = contribution * deposit_rate\n",
        "second_year = contribution * (deposit_rate**2)\n",
        "third_year = contribution * (deposit_rate**3)\n",
        "\n",
        "#Обрабатываем значения\n",
        "print(\"После первого года у вас на счету будет: %.2f рублей\" % first_year)\n",
        "print(\"После второго года у вас на счету будет: %.2f рублей\" % second_year)\n",
        "print(\"После третьего года у вас на счету будет: %.2f рублей\" % third_year)\n"
      ],
      "metadata": {
        "colab": {
          "base_uri": "https://localhost:8080/"
        },
        "id": "Yny3Uj2dTvZo",
        "outputId": "f5f0ffb7-fe25-47e8-f762-59c5bc3b726a"
      },
      "execution_count": null,
      "outputs": [
        {
          "output_type": "stream",
          "name": "stdout",
          "text": [
            "Введите сумму первоначального взноса: 100000\n",
            "После первого года у вас на счету будет: 104000.00 рублей\n",
            "После второго года у вас на счету будет: 108160.00 рублей\n",
            "После третьего года у вас на счету будет: 112486.40 рублей\n"
          ]
        }
      ]
    },
    {
      "cell_type": "markdown",
      "source": [
        "## Задача 4. Арифметика"
      ],
      "metadata": {
        "id": "d9y6YzAvuW4l"
      }
    },
    {
      "cell_type": "markdown",
      "source": [
        "**Условие.** Создайте программу, которая запрашивает у пользователя два целых числа a и b, после чего выводит на экран результаты следующих математических операций:\n",
        "* сумма a и b;\n",
        "* разница между a и b;\n",
        "* произведение a и b;\n",
        "* частное от деления a на b;\n",
        "* остаток от деления a на b;\n",
        "* десятичный логарифм числа a;\n",
        "* результат возведения числа a в степень b."
      ],
      "metadata": {
        "id": "ZeZZ2IrUuW4m"
      }
    },
    {
      "cell_type": "code",
      "source": [
        "#@title\n",
        "#Арифметика\n",
        "from math import log\n",
        "#Запрашиваем числа a и b\n",
        "a=int(input(\"Введите число a: \"))\n",
        "b=int(input(\"Введите число b: \"))\n",
        "\n",
        "#Пишем результаты\n",
        "print(\"сумма a и b: \", a+b)\n",
        "print(\"разница между a и b: \", a-b)\n",
        "print(\"произведение a и b: \", a*b)\n",
        "print(\"частное от деления a на b:\", a/b)\n",
        "print(\"остаток от деления a на b:\", a % b)\n",
        "print(\"десятичный логарифм числа а:\", log(a,10))\n",
        "print(\"результат возведения числа a в степень b:\", a**b)\n"
      ],
      "metadata": {
        "colab": {
          "base_uri": "https://localhost:8080/"
        },
        "id": "FPmf-cjWZoaD",
        "outputId": "e0f00ddb-afc9-4447-f6e9-947dfad74bd6"
      },
      "execution_count": null,
      "outputs": [
        {
          "output_type": "stream",
          "name": "stdout",
          "text": [
            "Введите число a: 3\n",
            "Введите число b: 2\n",
            "сумма a и b:  5\n",
            "разница между a и b:  1\n",
            "произведение a и b:  6\n",
            "частное от деления a на b: 1.5\n",
            "остаток от деления a на b: 1\n",
            "десятичный логарифм числа а: 0.47712125471966244\n",
            "результат возведения числа a в степень b: 9\n"
          ]
        }
      ]
    },
    {
      "cell_type": "markdown",
      "source": [
        "## Задача 5. Размен"
      ],
      "metadata": {
        "id": "EcSSCSnpeBto"
      }
    },
    {
      "cell_type": "markdown",
      "source": [
        "**Условие.** Представьте, что вы пишете программное обеспечение для автоматической кассы в  магазине самообслуживания. Одной из функций, заложенных в кассу, должен быть расчет сдачи в случае оплаты покупателем наличными.\n",
        "Напишите программу, которая будет запрашивать у пользователя сумму сдачи в копейках. После этого она должна рассчитать и вывести на экран, сколько и каких монет потребуется для выдачи указанной суммы, при условии что должно быть задействовано минимально возможное количество монет. Допустим, у нас есть в распоряжении монеты достоинством в 1, 5, 10, 50 копеек, а также в 1, 2 и 5 рублей.\n"
      ],
      "metadata": {
        "id": "VfX5FQQreBtp"
      }
    },
    {
      "cell_type": "code",
      "source": [
        "#@title\n",
        "#расчет минимального количества монет для сдачи\n",
        "\n",
        "#Нужные переменные\n",
        "five_r_coin = 500\n",
        "two_r_coin = 200\n",
        "one_r_coin = 100\n",
        "fifty_k_coin = 50\n",
        "ten_k_coin = 10\n",
        "five_k_coin = 5\n",
        "one_k_coin = 1\n",
        "\n",
        "#Запросим у пользователя сумму сдачи\n",
        "change_amount=int(input(\"Введите сумму сдачи: \"))\n",
        "\n",
        "#Рассчеты для 5 рублевых монет\n",
        "five_rubles_change = change_amount // five_r_coin\n",
        "change_amount = change_amount % five_r_coin\n",
        "\n",
        "#Рассчеты для 2 рублевых монет\n",
        "two_rubles_change = change_amount // two_r_coin\n",
        "change_amount = change_amount % two_r_coin\n",
        "\n",
        "#Рассчеты для 1 рублевых монет\n",
        "one_rubles_change = change_amount // one_r_coin\n",
        "change_amount = change_amount % one_r_coin\n",
        "\n",
        "#Рассчеты для 50-копеечных монет\n",
        "fifty_k_change = change_amount // fifty_k_coin\n",
        "change_amount = change_amount % fifty_k_coin\n",
        "\n",
        "#Рассчеты для 10-копеечных монет\n",
        "ten_k_change = change_amount // ten_k_coin\n",
        "change_amount = change_amount % ten_k_coin\n",
        "\n",
        "#Рассчеты для 5-копеечных монет\n",
        "five_k_change = change_amount // five_k_coin\n",
        "change_amount = change_amount % five_k_coin\n",
        "\n",
        "#Выводим результаты\n",
        "print(\"Сдача: \\\n",
        "\\n %s монет достоинством в 5 рублей \\\n",
        "\\n %s монет достоинством в 2 рубля \\\n",
        "\\n %s монет достоинством в 1 рубль \\\n",
        "\\n %s монет достоинством в 50 копеек \\\n",
        "\\n %s монет достоинством в 10 копеек \\\n",
        "\\n %s монет достоинством в 5 копеек \\\n",
        "\\n %s монет достоинством в 1 копейку \\\n",
        "\" % (five_rubles_change,two_rubles_change,one_rubles_change,fifty_k_change,ten_k_change, \\\n",
        "     five_k_change, change_amount))\n",
        "\n"
      ],
      "metadata": {
        "colab": {
          "base_uri": "https://localhost:8080/"
        },
        "id": "gws4eMreif9q",
        "outputId": "2be462ff-6155-401f-fe6a-8e38a01d30ba"
      },
      "execution_count": null,
      "outputs": [
        {
          "output_type": "stream",
          "name": "stdout",
          "text": [
            "Введите сумму сдачи: 834\n",
            "Сдача: \n",
            " 1 монет достоинством в 5 рублей \n",
            " 1 монет достоинством в 2 рубля \n",
            " 1 монет достоинством в 1 рубль \n",
            " 0 монет достоинством в 50 копеек \n",
            " 3 монет достоинством в 10 копеек \n",
            " 0 монет достоинством в 5 копеек \n",
            " 4 монет достоинством в 1 копейку \n"
          ]
        }
      ]
    },
    {
      "cell_type": "markdown",
      "source": [
        "## Задача 6. Вчерашний хлеб"
      ],
      "metadata": {
        "id": "26soP3cfeB8i"
      }
    },
    {
      "cell_type": "markdown",
      "source": [
        "**Условие.** Пекарня продает хлеб по 49 рублей за буханку. Скидка на вчерашний хлеб составляет 60 %. Напишите программу, которая будет запрашивать у пользователя количество приобретенных вчерашних буханок хлеба. В вывод на экран должны быть включены обычная цена за буханку, цена со скидкой и общая стоимость приобретенного хлеба. Все значения должны быть выведены на отдельных строках с соответствующими описаниями. Используйте для вывода формат с двумя знаками после запятой и 5-ю знакоместами.\n"
      ],
      "metadata": {
        "id": "t-cYNmWQeB8i"
      }
    },
    {
      "cell_type": "code",
      "source": [
        "#@title\n",
        "#Вчерашние буханки\n",
        "\n",
        "#Переменнные\n",
        "bread_price = 49\n",
        "disc_bread_price_rate = 0.4\n",
        "\n",
        "#Запрашиваем у пользователя количество приобретенных вчерашних буханок\n",
        "num_of_yest_bread = int(input(\"Количество приобретенных вчерашних буханок: \"))\n",
        "\n",
        "#Рассчеты\n",
        "yest_bread_price = bread_price * disc_bread_price_rate\n",
        "yest_bread_price_total = bread_price * disc_bread_price_rate * num_of_yest_bread\n",
        "\n",
        "#Вывод результатов\n",
        "print(\"Обычная цена за буханку: %.2f рублей \\n\\\n",
        "Цена за буханку со скидкой: %.2f рублей \\n\\\n",
        "Общая стоимость приобретенного хлеба: %.2f рублей\"\\\n",
        "      % (bread_price,yest_bread_price,yest_bread_price_total))\n"
      ],
      "metadata": {
        "colab": {
          "base_uri": "https://localhost:8080/"
        },
        "id": "XZy5M_JkrdlJ",
        "outputId": "190f9a13-561a-4cc7-87f4-0658ae467ca9"
      },
      "execution_count": null,
      "outputs": [
        {
          "output_type": "stream",
          "name": "stdout",
          "text": [
            "Количество приобретенных вчерашних буханок: 8\n",
            "Обычная цена за буханку: 49.00 рублей \n",
            "Цена за буханку со скидкой: 19.60 рублей \n",
            "Общая стоимость приобретенного хлеба: 156.80 рублей\n"
          ]
        }
      ]
    }
  ]
}